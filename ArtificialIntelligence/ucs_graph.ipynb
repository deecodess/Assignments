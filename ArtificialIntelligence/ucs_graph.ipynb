{
 "cells": [
  {
   "cell_type": "code",
   "execution_count": 1,
   "metadata": {},
   "outputs": [
    {
     "name": "stdout",
     "output_type": "stream",
     "text": [
      "Minimum cost from 0 to 4 is =  10\n",
      "*********END*********\n"
     ]
    }
   ],
   "source": [
    "def UCS_Function():\n",
    "\tqueue = []               # create a priority queue\n",
    "\tqueue.append([start, 0]) # insert the starting index this means we are going to start with cost 0\n",
    "\tvisited = {}             # map to store visited node this serves as memory\n",
    "\n",
    "\t# while the queue is not empty\n",
    "\twhile (len(queue) > 0):\n",
    "\t\tqueue=sorted(queue) # sort the queue elements on the cost(in negative)\n",
    "\t\tp = queue.pop(-1)   # pop the element at the top (the one with smallest cost)\n",
    "\t\tp[0] *= -1          # get the original value of the cost\n",
    "\t\t\n",
    "\t\tif (p[1] == goal):  # check if the element is goal\n",
    "\t\t\treturn p[0]     # return the cost value \n",
    "\n",
    "\t\t# check for the non visited nodes which are adjacent to present node\n",
    "\t\tif (p[1] not in visited):\n",
    "\t\t\tfor i in range(len(graph[p[1]])):\n",
    "\t\t\t\t# graph[p[1]] give all the nodes reachable from current node \n",
    "\t\t\t\t#print (graph[p[1]])\n",
    "\t\t\t\t# for each reachable node x\n",
    "\t\t\t\tx = graph[p[1]][i]\n",
    "\t\t\t\t#cost of going from p[1] to new node x\n",
    "\t\t\t\t# cost of reaching node x will be the cost callculated before that is p[0]\n",
    "\t\t\t\t# added with the cost of current node p[1] to x\n",
    "\t\t\t\t# value is multiplied by -1 so that least priority is at the top\n",
    "\t\t\t\tqueue.append( [   (p[0] + cost[(p[1],x)])*-1 ,      x] )\n",
    "\t\t# mark as visited\n",
    "\t\tvisited[p[1]] = 1\n",
    "\n",
    "# create the graph\n",
    "graph = [[] for i in range(4)]\n",
    "cost = {}\n",
    "\n",
    "# add edge\n",
    "# from 0 we can go to 1,2,3\n",
    "graph[0].append(1)\n",
    "graph[0].append(2)\n",
    "graph[0].append(3)\n",
    "# from 1 we can go to 4\n",
    "graph[1].append(4)\n",
    "# from 2 we can go to 4\n",
    "graph[2].append(4)\n",
    "# from 3 we can go to 4\n",
    "graph[3].append(4)\n",
    "#print(graph)\n",
    "\n",
    "# add the cost\n",
    "# cost for travelling from 0 t0 1 is 1\n",
    "cost[(0, 1)] = 1\n",
    "cost[(0, 2)] = 5\n",
    "cost[(0, 3)] = 11\n",
    "cost[(1, 4)] = 10\n",
    "cost[(2, 4)] = 5\n",
    "cost[(3, 4)] = 5\n",
    "#print(cost)\n",
    "\n",
    "# start and goal state\n",
    "start= 0\n",
    "goal = 4\n",
    "\n",
    "print(\"Minimum cost from 0 to 4 is = \",UCS_Function())\n",
    "print (\"*********END*********\")\n"
   ]
  }
 ],
 "metadata": {
  "kernelspec": {
   "display_name": "Python 3",
   "language": "python",
   "name": "python3"
  },
  "language_info": {
   "codemirror_mode": {
    "name": "ipython",
    "version": 3
   },
   "file_extension": ".py",
   "mimetype": "text/x-python",
   "name": "python",
   "nbconvert_exporter": "python",
   "pygments_lexer": "ipython3",
   "version": "3.11.2"
  },
  "orig_nbformat": 4
 },
 "nbformat": 4,
 "nbformat_minor": 2
}
