{
 "cells": [
  {
   "cell_type": "code",
   "execution_count": 1,
   "metadata": {},
   "outputs": [
    {
     "name": "stdout",
     "output_type": "stream",
     "text": [
      "[[2, 3, 4, 1], [], [], []]\n",
      "[[2, 3, 4], [1], [], []]\n"
     ]
    }
   ],
   "source": [
    "#Q1 \n",
    "open = []\n",
    "closed = []\n",
    "\n",
    "start = [[2, 3, 4, 1], [], [], []]\n",
    "final = [[1, 2, 3, 4], [], [], []]\n",
    "\n",
    "table = {\n",
    "    1: 0,\n",
    "    2: 1,\n",
    "    3: 2,\n",
    "    4: 3\n",
    "}\n",
    "\n",
    "def heuristic(state):\n",
    "    count = 0\n",
    "    for i in range(0, 4):\n",
    "        prev = 0\n",
    "        for item in state[i]:\n",
    "            if prev == table[item]:\n",
    "                count += 1\n",
    "            else:\n",
    "                count -= 1\n",
    "            prev = item\n",
    "\n",
    "    return count\n",
    "\n",
    "def operate(currunt, s, d):\n",
    "    l_currunt = []\n",
    "    for tower in currunt:\n",
    "        l_tower = []\n",
    "        for item in tower:\n",
    "            l_tower.append(item)\n",
    "        l_currunt.append(l_tower)\n",
    "\n",
    "    if len(l_currunt[s]) == 0:\n",
    "        return l_currunt\n",
    "    if len(l_currunt[s]) == 1 and len(l_currunt[d]) == 0:\n",
    "        return l_currunt\n",
    "\n",
    "    block = l_currunt[s][len(l_currunt[s]) - 1]\n",
    "    l_currunt[s].pop()\n",
    "    l_currunt[d].append(block)\n",
    "\n",
    "    return l_currunt\n",
    "\n",
    "def solve(currunt):\n",
    "    open.append(currunt)\n",
    "    while len(open) != 0:\n",
    "        state = open[len(open) - 1]\n",
    "        open.pop()\n",
    "\n",
    "        print(state)\n",
    "\n",
    "        if state.count([1, 2, 3, 4]):\n",
    "            print('found')\n",
    "            return\n",
    "\n",
    "        for i in range(0, 4):\n",
    "            for j in range(0, 4):\n",
    "                if i == j:\n",
    "                    continue\n",
    "                n_state = operate(state, i, j)\n",
    "                if state == n_state:\n",
    "                    continue\n",
    "                if heuristic(n_state) > heuristic(state):\n",
    "                    open.append(n_state)\n",
    "                    break\n",
    "\n",
    "solve(start)\n"
   ]
  }
 ],
 "metadata": {
  "kernelspec": {
   "display_name": "Python 3",
   "language": "python",
   "name": "python3"
  },
  "language_info": {
   "codemirror_mode": {
    "name": "ipython",
    "version": 3
   },
   "file_extension": ".py",
   "mimetype": "text/x-python",
   "name": "python",
   "nbconvert_exporter": "python",
   "pygments_lexer": "ipython3",
   "version": "3.11.2"
  },
  "orig_nbformat": 4
 },
 "nbformat": 4,
 "nbformat_minor": 2
}
