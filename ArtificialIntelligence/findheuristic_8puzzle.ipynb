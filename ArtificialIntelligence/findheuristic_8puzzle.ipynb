{
 "cells": [
  {
   "cell_type": "code",
   "execution_count": 2,
   "metadata": {},
   "outputs": [
    {
     "name": "stdout",
     "output_type": "stream",
     "text": [
      " Eucledian distance:  5.414213562373095\n",
      "Manhattan distance:  6.0\n",
      "Minkowiski distance:  5.259921049894873\n"
     ]
    }
   ],
   "source": [
    "# q1.\n",
    "import copy\n",
    "import math\n",
    "import numpy as np\n",
    "\n",
    "a = 3\n",
    "s = [[2,0,3],[1,8,4],[7,6,5]]\n",
    "g = [[1,2,3],[8,4,0],[7,6,5]]\n",
    "\n",
    "\n",
    "def find_pos(s,elem):\n",
    "    for i in range(len(s)):\n",
    "        for j in range(len(s[0])):\n",
    "            if s[i][j] == elem:\n",
    "                return [i,j]\n",
    "    return -1\n",
    "\n",
    "def Eucledian():\n",
    "    res_mat = np.zeros(len(s)*len(s[0]),dtype = float)\n",
    "    res_mat = res_mat.reshape(len(s),len(s))\n",
    "\n",
    "    for x1 in range(len(s)):\n",
    "        for y1 in range(len(s[0])):\n",
    "            elem = s[x1][y1]\n",
    "            x2,y2 = find_pos(g,elem)\n",
    "            res_mat[x1][y1] = math.sqrt((x2-x1)**2 + (y2-y1)**2)      \n",
    "    final = 0\n",
    "    for i in range(len(res_mat)):\n",
    "        final += sum(res_mat[i])\n",
    "    return final\n",
    "\n",
    "\n",
    "\n",
    "def Manhattan():\n",
    "    res_mat = np.zeros(len(s)*len(s[0]),dtype = float)\n",
    "    res_mat = res_mat.reshape(len(s),len(s))\n",
    "    \n",
    "   \n",
    "    for x1 in range(len(s)):\n",
    "        for y1 in range(len(s[0])):\n",
    "            elem = s[x1][y1]\n",
    "            x2,y2 = find_pos(g,elem)\n",
    "            res_mat[x1][y1] = abs(x2-x1) + abs(y2-y1)     \n",
    "    final = 0\n",
    "    for i in range(len(res_mat)):\n",
    "         final+= sum(res_mat[i]) \n",
    "    return final\n",
    "\n",
    "def Minkowiski():\n",
    "    res_mat = np.zeros(len(s)*len(s[0]),dtype = float)\n",
    "    res_mat = res_mat.reshape(len(s),len(s))\n",
    "    \n",
    "    for x1 in range(len(s)):\n",
    "        for y1 in range(len(s[0])):\n",
    "            elem = s[x1][y1]\n",
    "            x2,y2 = find_pos(g,elem)\n",
    "            res_mat[x1][y1] = ((abs(x2-x1)**a) + (abs(y2-y1)**a))**(1./p)\n",
    "        \n",
    "    final = 0\n",
    "    for i in range(len(res_mat)):\n",
    "        final += sum(res_mat[i])\n",
    "    return final\n",
    "\n",
    "\n",
    "\n",
    "\n",
    "Eu = Eucledian()\n",
    "Mn = Manhattan()\n",
    "Mk = Minkowiski()\n",
    "\n",
    "print(\" Eucledian distance: \", Eu)\n",
    "print(\"Manhattan distance: \", Mn)\n",
    "print(\"Minkowiski distance: \", Mk)\n"
   ]
  }
 ],
 "metadata": {
  "kernelspec": {
   "display_name": "Python 3",
   "language": "python",
   "name": "python3"
  },
  "language_info": {
   "codemirror_mode": {
    "name": "ipython",
    "version": 3
   },
   "file_extension": ".py",
   "mimetype": "text/x-python",
   "name": "python",
   "nbconvert_exporter": "python",
   "pygments_lexer": "ipython3",
   "version": "3.11.2"
  },
  "orig_nbformat": 4
 },
 "nbformat": 4,
 "nbformat_minor": 2
}
