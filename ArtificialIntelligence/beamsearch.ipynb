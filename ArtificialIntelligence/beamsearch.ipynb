{
 "cells": [
  {
   "cell_type": "code",
   "execution_count": 2,
   "metadata": {},
   "outputs": [
    {
     "name": "stdout",
     "output_type": "stream",
     "text": [
      "[['A', -1], ['B', 'A'], ['E', 'B'], ['D', 'B'], ['C', 'A'], ['G', 'C']]\n",
      "found\n"
     ]
    }
   ],
   "source": [
    "graph = {\n",
    "    'A': ['B', 'C'],\n",
    "    'B': ['D', 'E'],\n",
    "    'C': ['F', 'G'],\n",
    "    'D': [],\n",
    "    'E': [],\n",
    "    'F': [],\n",
    "    'G': [],\n",
    "}\n",
    "\n",
    "parent = {\n",
    "    'A': -1,\n",
    "    'B': 'A',\n",
    "    'C': 'A',\n",
    "    'D': 'B',\n",
    "    'E': 'B',\n",
    "    'F': 'C',\n",
    "    'G': 'C',\n",
    "}\n",
    "\n",
    "H = {\n",
    "    'B': 1,\n",
    "    'C': 3,\n",
    "    'D': 2,\n",
    "    'E': 2,\n",
    "    'F': 3,\n",
    "    'G': 0\n",
    "}\n",
    "\n",
    "def sort(q):\n",
    "    for i in range(0, len(q)):\n",
    "        for j in range(i, len(q)):\n",
    "            if H[q[i]] < H[q[j]]:\n",
    "                temp = q[i]\n",
    "                q[i] = q[j]\n",
    "                q[j] = temp\n",
    "\n",
    "def solve(currunt, b):\n",
    "    open = []\n",
    "    closed = []\n",
    "\n",
    "    open.append(currunt)\n",
    "    while len(open) != 0:\n",
    "        state = open[len(open) - 1]\n",
    "        open.pop()\n",
    "        closed.append([state, parent[state]])\n",
    "\n",
    "        if state == 'G':\n",
    "            print(closed)\n",
    "            print('found')\n",
    "            return\n",
    "\n",
    "        for items in graph[state]:\n",
    "            open.append(items)\n",
    "\n",
    "        sort(open)\n",
    "        if len(open) > b:\n",
    "            open = open[-1:-b]\n",
    "\n",
    "    print('not found')\n",
    "\n",
    "solve('A', 3)"
   ]
  }
 ],
 "metadata": {
  "kernelspec": {
   "display_name": "Python 3",
   "language": "python",
   "name": "python3"
  },
  "language_info": {
   "codemirror_mode": {
    "name": "ipython",
    "version": 3
   },
   "file_extension": ".py",
   "mimetype": "text/x-python",
   "name": "python",
   "nbconvert_exporter": "python",
   "pygments_lexer": "ipython3",
   "version": "3.11.2"
  },
  "orig_nbformat": 4
 },
 "nbformat": 4,
 "nbformat_minor": 2
}
